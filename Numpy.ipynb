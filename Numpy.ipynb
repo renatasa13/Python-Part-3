{
 "cells": [
  {
   "cell_type": "markdown",
   "id": "b94a9550",
   "metadata": {},
   "source": [
    "NumPy\n",
    "\n",
    "NumPy is a module that aims to make calculations in Python lighter."
   ]
  },
  {
   "cell_type": "code",
   "execution_count": 1,
   "id": "b062a0c1",
   "metadata": {},
   "outputs": [],
   "source": [
    "# Import NumPy\n",
    "\n",
    "import numpy as np"
   ]
  },
  {
   "cell_type": "code",
   "execution_count": 2,
   "id": "9635a9e3",
   "metadata": {},
   "outputs": [
    {
     "name": "stdout",
     "output_type": "stream",
     "text": [
      "1.24.3\n"
     ]
    }
   ],
   "source": [
    "# Checking NumPy Version\n",
    "\n",
    "print(np.__version__)"
   ]
  },
  {
   "cell_type": "code",
   "execution_count": 3,
   "id": "fe85e541",
   "metadata": {},
   "outputs": [
    {
     "name": "stdout",
     "output_type": "stream",
     "text": [
      "[1 2 3 4 5]\n"
     ]
    }
   ],
   "source": [
    "# creating a NumPy array\n",
    "\n",
    "arr = np.array([1, 2, 3, 4, 5])\n",
    "print(arr)"
   ]
  },
  {
   "cell_type": "code",
   "execution_count": 4,
   "id": "ca960e2a",
   "metadata": {},
   "outputs": [
    {
     "name": "stdout",
     "output_type": "stream",
     "text": [
      "[1 2 3 4 5]\n",
      "<class 'numpy.ndarray'>\n"
     ]
    }
   ],
   "source": [
    "import numpy as np\n",
    "\n",
    "arr = np.array([1, 2, 3, 4, 5])\n",
    "\n",
    "print(arr)\n",
    "\n",
    "print(type(arr))"
   ]
  },
  {
   "cell_type": "markdown",
   "id": "978b0514",
   "metadata": {},
   "source": [
    "Task 1 (import numpy, checking version, bikin contoh numpy, type data)"
   ]
  },
  {
   "cell_type": "code",
   "execution_count": 5,
   "id": "3c5f1f55",
   "metadata": {},
   "outputs": [],
   "source": [
    "# Import NumPy\n",
    "\n",
    "import numpy as np"
   ]
  },
  {
   "cell_type": "code",
   "execution_count": 6,
   "id": "7d8d7942",
   "metadata": {},
   "outputs": [
    {
     "name": "stdout",
     "output_type": "stream",
     "text": [
      "1.24.3\n"
     ]
    }
   ],
   "source": [
    "# Checking NumPy Version\n",
    "\n",
    "print(np.__version__)"
   ]
  },
  {
   "cell_type": "code",
   "execution_count": 7,
   "id": "a2f96a6e",
   "metadata": {},
   "outputs": [
    {
     "name": "stdout",
     "output_type": "stream",
     "text": [
      "['Kami' 'adalah' 'Kelompok 5']\n"
     ]
    }
   ],
   "source": [
    "# creating a NumPy array\n",
    "\n",
    "strings = np.array([\"Kami\", \"adalah\", \"Kelompok 5\"])\n",
    "print(strings)"
   ]
  },
  {
   "cell_type": "code",
   "execution_count": 8,
   "id": "606ca485",
   "metadata": {},
   "outputs": [
    {
     "name": "stdout",
     "output_type": "stream",
     "text": [
      "['Kami' 'adalah' 'Kelompok 5']\n",
      "<class 'numpy.ndarray'>\n"
     ]
    }
   ],
   "source": [
    "import numpy as np\n",
    "\n",
    "strings = np.array([\"Kami\", \"adalah\", \"Kelompok 5\"])\n",
    "\n",
    "print(strings)\n",
    "\n",
    "print(type(strings))"
   ]
  },
  {
   "cell_type": "code",
   "execution_count": 11,
   "id": "604efbd9",
   "metadata": {},
   "outputs": [
    {
     "name": "stdout",
     "output_type": "stream",
     "text": [
      "[1 2 3 4 5]\n",
      "<class 'numpy.ndarray'>\n"
     ]
    }
   ],
   "source": [
    "# Use a tuple to create a Numpy array\n",
    "\n",
    "import numpy as np\n",
    "\n",
    "arr = np.array((1, 2, 3, 4, 5))\n",
    "\n",
    "print(arr)\n",
    "\n",
    "print(type(arr))"
   ]
  },
  {
   "cell_type": "markdown",
   "id": "4da70a76",
   "metadata": {},
   "source": [
    "Dimensions in Arrays\n",
    "\n",
    "A dimension in arrays is one level of array depth (nested arrays)."
   ]
  },
  {
   "cell_type": "code",
   "execution_count": 12,
   "id": "cc9954d5",
   "metadata": {},
   "outputs": [],
   "source": [
    "# 0-D"
   ]
  },
  {
   "cell_type": "code",
   "execution_count": 13,
   "id": "e78568d8",
   "metadata": {},
   "outputs": [
    {
     "name": "stdout",
     "output_type": "stream",
     "text": [
      "42\n"
     ]
    }
   ],
   "source": [
    "import numpy as np\n",
    "\n",
    "arr = np.array(42)\n",
    "\n",
    "print(arr)"
   ]
  },
  {
   "cell_type": "code",
   "execution_count": 14,
   "id": "75e65cf1",
   "metadata": {},
   "outputs": [],
   "source": [
    "# Create a 1-D array"
   ]
  },
  {
   "cell_type": "code",
   "execution_count": 15,
   "id": "b749ba98",
   "metadata": {},
   "outputs": [
    {
     "name": "stdout",
     "output_type": "stream",
     "text": [
      "[1 2 3 4 5]\n"
     ]
    }
   ],
   "source": [
    "import numpy as np\n",
    "\n",
    "arr = np.array([1, 2, 3, 4, 5])\n",
    "\n",
    "print(arr)"
   ]
  },
  {
   "cell_type": "code",
   "execution_count": 16,
   "id": "d9caac5e",
   "metadata": {},
   "outputs": [],
   "source": [
    "# Create a 2-D array containing two arrays"
   ]
  },
  {
   "cell_type": "code",
   "execution_count": 17,
   "id": "526491fc",
   "metadata": {},
   "outputs": [
    {
     "name": "stdout",
     "output_type": "stream",
     "text": [
      "[[1 2 3]\n",
      " [4 5 6]\n",
      " [7 8 9]]\n"
     ]
    }
   ],
   "source": [
    "import numpy as np\n",
    "\n",
    "arr = np.array([[1, 2, 3], [4, 5, 6], [7, 8, 9]])\n",
    "\n",
    "print(arr)"
   ]
  },
  {
   "cell_type": "markdown",
   "id": "6643116c",
   "metadata": {},
   "source": [
    "Task 2 (buat 0, 1, 2 dimesion)"
   ]
  },
  {
   "cell_type": "code",
   "execution_count": 19,
   "id": "b53cdd4f",
   "metadata": {},
   "outputs": [
    {
     "name": "stdout",
     "output_type": "stream",
     "text": [
      "1.5\n"
     ]
    }
   ],
   "source": [
    "# 0-D\n",
    "\n",
    "import numpy as np\n",
    "\n",
    "arr = np.array(1.5)\n",
    "\n",
    "print(arr)"
   ]
  },
  {
   "cell_type": "code",
   "execution_count": 20,
   "id": "a40552c2",
   "metadata": {},
   "outputs": [
    {
     "name": "stdout",
     "output_type": "stream",
     "text": [
      "['Data Analyst' 'MyEduSolve']\n"
     ]
    }
   ],
   "source": [
    "# 1-D\n",
    "\n",
    "import numpy as np\n",
    "\n",
    "arr = np.array([\"Data Analyst\", \"MyEduSolve\"])\n",
    "\n",
    "print(arr)"
   ]
  },
  {
   "cell_type": "code",
   "execution_count": 21,
   "id": "9fa8a472",
   "metadata": {},
   "outputs": [
    {
     "name": "stdout",
     "output_type": "stream",
     "text": [
      "[['Kelompok 1']\n",
      " ['Kelompok 2']\n",
      " ['Kelompok 3']\n",
      " ['Kelompok 4']\n",
      " ['Kelompok 5']]\n"
     ]
    }
   ],
   "source": [
    "# 2-D\n",
    "\n",
    "import numpy as np\n",
    "\n",
    "arr = np.array([[\"Kelompok 1\"], [\"Kelompok 2\"], [\"Kelompok 3\"], [\"Kelompok 4\"], [\"Kelompok 5\"]])\n",
    "\n",
    "print(arr)"
   ]
  },
  {
   "cell_type": "code",
   "execution_count": 22,
   "id": "bf6191cf",
   "metadata": {},
   "outputs": [],
   "source": [
    "# Create a 3-D array with two 2-D arrays, both containing two arrays"
   ]
  },
  {
   "cell_type": "code",
   "execution_count": 27,
   "id": "2622cd90",
   "metadata": {},
   "outputs": [
    {
     "name": "stdout",
     "output_type": "stream",
     "text": [
      "[[[1 2 3]\n",
      "  [4 5 6]]\n",
      "\n",
      " [[1 2 3]\n",
      "  [4 5 6]]]\n"
     ]
    }
   ],
   "source": [
    "import numpy as np\n",
    "\n",
    "arr = np.array([[[1, 2, 3], [4, 5, 6]], [[1, 2, 3], [4, 5, 6]]])\n",
    "\n",
    "print(arr)"
   ]
  },
  {
   "cell_type": "code",
   "execution_count": 28,
   "id": "dd0d8daf",
   "metadata": {},
   "outputs": [],
   "source": [
    "# Check how many dimensions the arrays have"
   ]
  },
  {
   "cell_type": "code",
   "execution_count": 30,
   "id": "dd64f78c",
   "metadata": {},
   "outputs": [
    {
     "name": "stdout",
     "output_type": "stream",
     "text": [
      "0\n",
      "1\n",
      "2\n",
      "3\n"
     ]
    }
   ],
   "source": [
    "import numpy as np\n",
    "\n",
    "a = np.array(42)\n",
    "b = np.array([1, 2, 3, 4, 5])\n",
    "c = np.array([[1, 2, 3], [4, 5, 6], [7, 8, 9]])\n",
    "d = np.array([[[1, 2, 3], [4, 5, 6]], [[1, 2, 3], [4, 5, 6]]])\n",
    "\n",
    "print(a.ndim)\n",
    "print(b.ndim)\n",
    "print(c.ndim)\n",
    "print(d.ndim)"
   ]
  },
  {
   "cell_type": "code",
   "execution_count": null,
   "id": "5f0691e4",
   "metadata": {},
   "outputs": [],
   "source": [
    "# Create an array with 5 dimensions and verify that it has 5 dimensions"
   ]
  },
  {
   "cell_type": "code",
   "execution_count": 39,
   "id": "5eaf6a4b",
   "metadata": {},
   "outputs": [
    {
     "name": "stdout",
     "output_type": "stream",
     "text": [
      "[[[[[1 2 3 4 5]]]]]\n",
      "number of dimension : 5\n"
     ]
    }
   ],
   "source": [
    "import numpy as np\n",
    "\n",
    "arr = np.array([1, 2, 3, 4, 5], ndmin=5)\n",
    "\n",
    "print(arr)\n",
    "print('number of dimension :', arr.ndim)"
   ]
  },
  {
   "cell_type": "markdown",
   "id": "ed3e3cd7",
   "metadata": {},
   "source": [
    "Task 3 (bikin bbrp array, cek ndim, bikin sebuah array ndim)"
   ]
  },
  {
   "cell_type": "code",
   "execution_count": 34,
   "id": "1ddf5c37",
   "metadata": {},
   "outputs": [
    {
     "name": "stdout",
     "output_type": "stream",
     "text": [
      "0\n",
      "1\n",
      "2\n",
      "3\n"
     ]
    }
   ],
   "source": [
    "import numpy as np\n",
    "\n",
    "o = np.array(1.1)\n",
    "p = np.array([1.2, 1.3, 1.4, 1.5, 1.6])\n",
    "q = np.array([[1.2, 1.3, 1.4], [1.4, 1.5, 1.6], [1.7, 1.8, 1.9]])\n",
    "r = np.array([[[1.2, 1.3, 1.4], [1.5, 1.6, 1.7]], [[1.8, 1.9, 1.10], [1.11, 1.12, 1.13]]])\n",
    "\n",
    "print(o.ndim)\n",
    "print(p.ndim)\n",
    "print(q.ndim)\n",
    "print(r.ndim)"
   ]
  },
  {
   "cell_type": "code",
   "execution_count": 38,
   "id": "6abd0fcb",
   "metadata": {},
   "outputs": [
    {
     "name": "stdout",
     "output_type": "stream",
     "text": [
      "[[[[[1.2 1.3 1.4 1.5 1.6]]]]]\n",
      "number of dimension : 5\n"
     ]
    }
   ],
   "source": [
    "import numpy as np\n",
    "\n",
    "arr = np.array([1.2, 1.3, 1.4, 1.5, 1.6], ndmin=5)\n",
    "\n",
    "print(arr)\n",
    "print('number of dimension :', arr.ndim)"
   ]
  },
  {
   "cell_type": "code",
   "execution_count": null,
   "id": "26f4324a",
   "metadata": {},
   "outputs": [],
   "source": [
    "# Get the second element from the following array"
   ]
  },
  {
   "cell_type": "code",
   "execution_count": 46,
   "id": "824c8168",
   "metadata": {},
   "outputs": [
    {
     "name": "stdout",
     "output_type": "stream",
     "text": [
      "2\n"
     ]
    }
   ],
   "source": [
    "import numpy as np\n",
    "\n",
    "arr = np.array([1, 2, 3, 4])\n",
    "\n",
    "print(arr[1])"
   ]
  },
  {
   "cell_type": "code",
   "execution_count": 47,
   "id": "8e8129ad",
   "metadata": {},
   "outputs": [],
   "source": [
    "# Get the third and fourth elements from the followning array and add then"
   ]
  },
  {
   "cell_type": "code",
   "execution_count": 49,
   "id": "f96f2b7e",
   "metadata": {},
   "outputs": [
    {
     "name": "stdout",
     "output_type": "stream",
     "text": [
      "7\n"
     ]
    }
   ],
   "source": [
    "import numpy as np\n",
    "\n",
    "arr = np.array([1, 2, 3, 4])\n",
    "\n",
    "print(arr[2] + arr[3])"
   ]
  },
  {
   "cell_type": "code",
   "execution_count": 50,
   "id": "280a5878",
   "metadata": {},
   "outputs": [],
   "source": [
    "# Access the element on the first row, second column"
   ]
  },
  {
   "cell_type": "code",
   "execution_count": 51,
   "id": "0fc1a5b1",
   "metadata": {},
   "outputs": [
    {
     "name": "stdout",
     "output_type": "stream",
     "text": [
      "2nd element on 1 st row:  2\n"
     ]
    }
   ],
   "source": [
    "import numpy as np\n",
    "\n",
    "arr= np.array([[1,2,3,4,5], [6,7,8,9,10]])\n",
    "\n",
    "print('2nd element on 1 st row: ', arr[0, 1])"
   ]
  },
  {
   "cell_type": "code",
   "execution_count": 52,
   "id": "d1909c6e",
   "metadata": {},
   "outputs": [],
   "source": [
    "# Access the element on the 2nd, 5th column"
   ]
  },
  {
   "cell_type": "code",
   "execution_count": 53,
   "id": "cdc73c50",
   "metadata": {},
   "outputs": [
    {
     "name": "stdout",
     "output_type": "stream",
     "text": [
      "10\n"
     ]
    }
   ],
   "source": [
    "import numpy as np\n",
    "arr = np.array([[1,2,3,4,5], [6,7,8,9,10]])\n",
    "print(arr[1,4])"
   ]
  },
  {
   "cell_type": "code",
   "execution_count": 54,
   "id": "a55742d7",
   "metadata": {},
   "outputs": [],
   "source": [
    "# Access the third element of the second array of the first array"
   ]
  },
  {
   "cell_type": "code",
   "execution_count": 55,
   "id": "883c5dc6",
   "metadata": {},
   "outputs": [
    {
     "name": "stdout",
     "output_type": "stream",
     "text": [
      "9\n"
     ]
    }
   ],
   "source": [
    "import numpy as np\n",
    "\n",
    "arr = np.array([[[1, 2, 3], [4, 5, 6]], [[7, 8, 9], [10, 11, 12]]])\n",
    "\n",
    "print(arr[1, 0, 2])"
   ]
  },
  {
   "cell_type": "markdown",
   "id": "80cc8aa3",
   "metadata": {},
   "source": [
    "Task 4 (bikin array 2D, isi nya ada min 3 list, panggil (operasi math), slicing)"
   ]
  },
  {
   "cell_type": "code",
   "execution_count": 57,
   "id": "d8a625d3",
   "metadata": {},
   "outputs": [
    {
     "name": "stdout",
     "output_type": "stream",
     "text": [
      "2nd element on 2 nd row:  2.2\n"
     ]
    }
   ],
   "source": [
    "import numpy as np\n",
    "\n",
    "arr= np.array([[1.1, 2.2, 3.3, 4.4, 5.5], [6.1, 7.1, 8.1, 9.1, 10.1], [11.4 , 12.4, 13.4, 14.4, 15.4]])\n",
    "\n",
    "print('2nd element on 2 nd row: ', arr[0, 1])"
   ]
  },
  {
   "cell_type": "code",
   "execution_count": 58,
   "id": "46b0c2aa",
   "metadata": {},
   "outputs": [
    {
     "name": "stdout",
     "output_type": "stream",
     "text": [
      "2nd element on 2 nd row:  7.1\n"
     ]
    }
   ],
   "source": [
    "import numpy as np\n",
    "\n",
    "arr= np.array([[1.1, 2.2, 3.3, 4.4, 5.5], [6.1, 7.1, 8.1, 9.1, 10.1], [11.4 , 12.4, 13.4, 14.4, 15.4]])\n",
    "\n",
    "print('2nd element on 2 nd row: ', arr[1, 1])"
   ]
  },
  {
   "cell_type": "code",
   "execution_count": 59,
   "id": "9329c4e9",
   "metadata": {},
   "outputs": [
    {
     "name": "stdout",
     "output_type": "stream",
     "text": [
      "2nd element on 2 nd row:  12.4\n"
     ]
    }
   ],
   "source": [
    "import numpy as np\n",
    "\n",
    "arr= np.array([[1.1, 2.2, 3.3, 4.4, 5.5], [6.1, 7.1, 8.1, 9.1, 10.1], [11.4 , 12.4, 13.4, 14.4, 15.4]])\n",
    "\n",
    "print('2nd element on 2 nd row: ', arr[2, 1])"
   ]
  }
 ],
 "metadata": {
  "kernelspec": {
   "display_name": "Python 3 (ipykernel)",
   "language": "python",
   "name": "python3"
  },
  "language_info": {
   "codemirror_mode": {
    "name": "ipython",
    "version": 3
   },
   "file_extension": ".py",
   "mimetype": "text/x-python",
   "name": "python",
   "nbconvert_exporter": "python",
   "pygments_lexer": "ipython3",
   "version": "3.11.4"
  }
 },
 "nbformat": 4,
 "nbformat_minor": 5
}
