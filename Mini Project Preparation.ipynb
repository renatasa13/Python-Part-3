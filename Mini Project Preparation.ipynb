{
 "cells": [
  {
   "cell_type": "markdown",
   "id": "9404abb9",
   "metadata": {},
   "source": [
    "Task 1 (Create another question from example number 1 part A on mini project questions)"
   ]
  },
  {
   "cell_type": "code",
   "execution_count": 1,
   "id": "70d2f88f",
   "metadata": {},
   "outputs": [
    {
     "name": "stdout",
     "output_type": "stream",
     "text": [
      "Siapa namamu : mala\n",
      "Siapa namamu : rina\n",
      "Siapa namamu : raina\n",
      "['mala', 'rina', 'raina']\n"
     ]
    }
   ],
   "source": [
    "list_nama = []\n",
    "\n",
    "for i in range(3):\n",
    "    user = input(\"Siapa namamu : \")\n",
    "    list_nama.append(user)\n",
    "print(list_nama)"
   ]
  },
  {
   "cell_type": "markdown",
   "id": "ee31e350",
   "metadata": {},
   "source": [
    "Task 2 (Create the criteria from the questions created in task 1)"
   ]
  },
  {
   "cell_type": "code",
   "execution_count": 3,
   "id": "4443fd9c",
   "metadata": {},
   "outputs": [
    {
     "name": "stdout",
     "output_type": "stream",
     "text": [
      "Masukkan namamu dan umurmu (contoh: Nama | Umur): renata | 20\n",
      "Masukkan namamu dan umurmu (contoh: Nama | Umur): ardi | 20\n",
      "Masukkan namamu dan umurmu (contoh: Nama | Umur): novan | 20\n",
      "1. Nama : renata\n",
      "   Kategori Umur: Remaja\n",
      "2. Nama : ardi\n",
      "   Kategori Umur: Remaja\n",
      "3. Nama : novan\n",
      "   Kategori Umur: Remaja\n",
      "[('renata', 20.0), ('ardi', 20.0), ('novan', 20.0)]\n"
     ]
    }
   ],
   "source": [
    "list_nama_umur = []\n",
    "\n",
    "for i in range(3):\n",
    "    input_user = input(f\"Masukkan namamu dan umurmu (contoh: Nama | Umur): \")\n",
    "    nama, umur = input_user.split(\"|\")\n",
    "    list_nama_umur.append((nama.strip(), float(umur.strip())))\n",
    "\n",
    "for i, (nama, umur) in enumerate(list_nama_umur):\n",
    "    print(f\"{i+1}. Nama : {nama}\")\n",
    "    if 0 < umur <= 1:\n",
    "        print(f\"   Kategori Umur: Bayi\")\n",
    "    elif 1 < umur <= 3:\n",
    "        print(f\"   Kategori Umur: Batita\")\n",
    "    elif 3 < umur <= 5:\n",
    "        print(f\"   Kategori Umur: Balita\")\n",
    "    elif 5 < umur <= 12:\n",
    "        print(f\"   Kategori Umur: Anak-anak\")\n",
    "    elif 12 < umur <= 25:\n",
    "        print(f\"   Kategori Umur: Remaja\")\n",
    "    elif 26 < umur <= 45:\n",
    "        print(f\"   Kategori Umur: Dewasa\")\n",
    "    elif 45 < umur <= 65:\n",
    "        print(f\"   Kategori Umur: Lansia\")\n",
    "    else:\n",
    "        print(f\"   Kategori Umur: Manula\")\n",
    "print(list_nama_umur)"
   ]
  },
  {
   "cell_type": "markdown",
   "id": "51bbd59b",
   "metadata": {},
   "source": [
    "Task 3 (Create questions and continuations of previous questions by adding functions that accept parameters)"
   ]
  },
  {
   "cell_type": "code",
   "execution_count": 4,
   "id": "d87ff7a0",
   "metadata": {},
   "outputs": [
    {
     "name": "stdout",
     "output_type": "stream",
     "text": [
      "Masukkan nama dan umur anak ke-1 (contoh: Nama | Umur): kila | 17\n",
      "Masukkan nama dan umur anak ke-2 (contoh: Nama | Umur): daisy | 10\n",
      "Masukkan nama dan umur anak ke-3 (contoh: Nama | Umur): kalu | 19\n",
      "1. Nama : kila\n",
      "   Status keanggotaan posyandu: Non aktif\n",
      "2. Nama : daisy\n",
      "   Status keanggotaan posyandu: Non aktif\n",
      "3. Nama : kalu\n",
      "   Status keanggotaan posyandu: Non aktif\n"
     ]
    }
   ],
   "source": [
    "def status_keanggotaan():\n",
    "    list_nama_umur = []\n",
    "    for i in range(3):\n",
    "        input_user = input(f\"Masukkan nama dan umur anak ke-{i+1} (contoh: Nama | Umur): \")\n",
    "        nama, umur = input_user.split(\"|\")\n",
    "        list_nama_umur.append((nama.strip(), float(umur.strip())))\n",
    "\n",
    "    for i, (nama, umur) in enumerate(list_nama_umur):\n",
    "        print(f\"{i+1}. Nama : {nama}\")\n",
    "        if 0 < umur < 5:\n",
    "            print(f\"   Status keanggotaan posyandu: Aktif\")\n",
    "        elif umur >= 5:\n",
    "            print(f\"   Status keanggotaan posyandu: Non aktif\")\n",
    "        else:\n",
    "            print(f\"   Harap masukkan umur anak dengan benar\")\n",
    "\n",
    "status_keanggotaan()"
   ]
  }
 ],
 "metadata": {
  "kernelspec": {
   "display_name": "Python 3 (ipykernel)",
   "language": "python",
   "name": "python3"
  },
  "language_info": {
   "codemirror_mode": {
    "name": "ipython",
    "version": 3
   },
   "file_extension": ".py",
   "mimetype": "text/x-python",
   "name": "python",
   "nbconvert_exporter": "python",
   "pygments_lexer": "ipython3",
   "version": "3.11.4"
  }
 },
 "nbformat": 4,
 "nbformat_minor": 5
}
